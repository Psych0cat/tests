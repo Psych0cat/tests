{
 "cells": [
  {
   "cell_type": "code",
   "execution_count": 1,
   "metadata": {
    "collapsed": true
   },
   "outputs": [],
   "source": [
    "with open('ru_syntagrus-ud-test.conllu', 'r') as txt:\n",
    "    data = txt.read()"
   ]
  },
  {
   "cell_type": "code",
   "execution_count": 2,
   "metadata": {
    "collapsed": true
   },
   "outputs": [],
   "source": [
    "from conllu import parse\n"
   ]
  },
  {
   "cell_type": "code",
   "execution_count": 3,
   "metadata": {},
   "outputs": [
    {
     "data": {
      "text/plain": [
       "[OrderedDict([('id', 1),\n",
       "              ('form', 'В'),\n",
       "              ('lemma', 'в'),\n",
       "              ('upostag', 'ADP'),\n",
       "              ('xpostag', None),\n",
       "              ('feats', None),\n",
       "              ('head', 3),\n",
       "              ('deprel', 'case'),\n",
       "              ('deps', [('case', 3)]),\n",
       "              ('misc', None)]),\n",
       " OrderedDict([('id', 2),\n",
       "              ('form', 'советский'),\n",
       "              ('lemma', 'советский'),\n",
       "              ('upostag', 'ADJ'),\n",
       "              ('xpostag', None),\n",
       "              ('feats',\n",
       "               OrderedDict([('Animacy', 'Inan'),\n",
       "                            ('Case', 'Acc'),\n",
       "                            ('Degree', 'Pos'),\n",
       "                            ('Gender', 'Masc'),\n",
       "                            ('Number', 'Sing')])),\n",
       "              ('head', 3),\n",
       "              ('deprel', 'amod'),\n",
       "              ('deps', [('amod', 3)]),\n",
       "              ('misc', None)]),\n",
       " OrderedDict([('id', 3),\n",
       "              ('form', 'период'),\n",
       "              ('lemma', 'период'),\n",
       "              ('upostag', 'NOUN'),\n",
       "              ('xpostag', None),\n",
       "              ('feats',\n",
       "               OrderedDict([('Animacy', 'Inan'),\n",
       "                            ('Case', 'Acc'),\n",
       "                            ('Gender', 'Masc'),\n",
       "                            ('Number', 'Sing')])),\n",
       "              ('head', 11),\n",
       "              ('deprel', 'obl'),\n",
       "              ('deps', [('obl', 11)]),\n",
       "              ('misc', None)]),\n",
       " OrderedDict([('id', 4),\n",
       "              ('form', 'времени'),\n",
       "              ('lemma', 'время'),\n",
       "              ('upostag', 'NOUN'),\n",
       "              ('xpostag', None),\n",
       "              ('feats',\n",
       "               OrderedDict([('Animacy', 'Inan'),\n",
       "                            ('Case', 'Gen'),\n",
       "                            ('Gender', 'Neut'),\n",
       "                            ('Number', 'Sing')])),\n",
       "              ('head', 3),\n",
       "              ('deprel', 'nmod'),\n",
       "              ('deps', [('nmod', 3)]),\n",
       "              ('misc', None)]),\n",
       " OrderedDict([('id', 5),\n",
       "              ('form', 'число'),\n",
       "              ('lemma', 'число'),\n",
       "              ('upostag', 'NOUN'),\n",
       "              ('xpostag', None),\n",
       "              ('feats',\n",
       "               OrderedDict([('Animacy', 'Inan'),\n",
       "                            ('Case', 'Acc'),\n",
       "                            ('Gender', 'Neut'),\n",
       "                            ('Number', 'Sing')])),\n",
       "              ('head', 11),\n",
       "              ('deprel', 'obj'),\n",
       "              ('deps', [('obj', 11)]),\n",
       "              ('misc', None)]),\n",
       " OrderedDict([('id', 6),\n",
       "              ('form', 'ИТ'),\n",
       "              ('lemma', 'ит'),\n",
       "              ('upostag', 'PROPN'),\n",
       "              ('xpostag', None),\n",
       "              ('feats',\n",
       "               OrderedDict([('Animacy', 'Inan'),\n",
       "                            ('Case', 'Nom'),\n",
       "                            ('Gender', 'Neut'),\n",
       "                            ('Number', 'Sing')])),\n",
       "              ('head', 8),\n",
       "              ('deprel', 'compound'),\n",
       "              ('deps', [('compound', 8)]),\n",
       "              ('misc', OrderedDict([('SpaceAfter', 'No')]))]),\n",
       " OrderedDict([('id', 7),\n",
       "              ('form', '-'),\n",
       "              ('lemma', '-'),\n",
       "              ('upostag', 'PUNCT'),\n",
       "              ('xpostag', None),\n",
       "              ('feats', None),\n",
       "              ('head', 6),\n",
       "              ('deprel', 'punct'),\n",
       "              ('deps', [('punct', 6)]),\n",
       "              ('misc', None)]),\n",
       " OrderedDict([('id', 8),\n",
       "              ('form', 'специалистов'),\n",
       "              ('lemma', 'специалист'),\n",
       "              ('upostag', 'NOUN'),\n",
       "              ('xpostag', None),\n",
       "              ('feats',\n",
       "               OrderedDict([('Animacy', 'Anim'),\n",
       "                            ('Case', 'Gen'),\n",
       "                            ('Gender', 'Masc'),\n",
       "                            ('Number', 'Plur')])),\n",
       "              ('head', 5),\n",
       "              ('deprel', 'nmod'),\n",
       "              ('deps', [('nmod', 5)]),\n",
       "              ('misc', None)]),\n",
       " OrderedDict([('id', 9),\n",
       "              ('form', 'в'),\n",
       "              ('lemma', 'в'),\n",
       "              ('upostag', 'ADP'),\n",
       "              ('xpostag', None),\n",
       "              ('feats', None),\n",
       "              ('head', 10),\n",
       "              ('deprel', 'case'),\n",
       "              ('deps', [('case', 10)]),\n",
       "              ('misc', None)]),\n",
       " OrderedDict([('id', 10),\n",
       "              ('form', 'Армении'),\n",
       "              ('lemma', 'армения'),\n",
       "              ('upostag', 'PROPN'),\n",
       "              ('xpostag', None),\n",
       "              ('feats',\n",
       "               OrderedDict([('Animacy', 'Inan'),\n",
       "                            ('Case', 'Loc'),\n",
       "                            ('Gender', 'Fem'),\n",
       "                            ('Number', 'Sing')])),\n",
       "              ('head', 5),\n",
       "              ('deprel', 'nmod'),\n",
       "              ('deps', [('nmod', 5)]),\n",
       "              ('misc', None)]),\n",
       " OrderedDict([('id', 11),\n",
       "              ('form', 'составляло'),\n",
       "              ('lemma', 'составлять'),\n",
       "              ('upostag', 'VERB'),\n",
       "              ('xpostag', None),\n",
       "              ('feats',\n",
       "               OrderedDict([('Aspect', 'Imp'),\n",
       "                            ('Gender', 'Neut'),\n",
       "                            ('Mood', 'Ind'),\n",
       "                            ('Number', 'Sing'),\n",
       "                            ('Tense', 'Past'),\n",
       "                            ('VerbForm', 'Fin'),\n",
       "                            ('Voice', 'Act')])),\n",
       "              ('head', 0),\n",
       "              ('deprel', 'root'),\n",
       "              ('deps', [('root', 0)]),\n",
       "              ('misc', None)]),\n",
       " OrderedDict([('id', 12),\n",
       "              ('form', 'около'),\n",
       "              ('lemma', 'около'),\n",
       "              ('upostag', 'ADP'),\n",
       "              ('xpostag', None),\n",
       "              ('feats', None),\n",
       "              ('head', 14),\n",
       "              ('deprel', 'case'),\n",
       "              ('deps', [('case', 14)]),\n",
       "              ('misc', None)]),\n",
       " OrderedDict([('id', 13),\n",
       "              ('form', 'десяти'),\n",
       "              ('lemma', 'десять'),\n",
       "              ('upostag', 'NUM'),\n",
       "              ('xpostag', None),\n",
       "              ('feats', OrderedDict([('Case', 'Gen')])),\n",
       "              ('head', 14),\n",
       "              ('deprel', 'nummod'),\n",
       "              ('deps', [('nummod', 14)]),\n",
       "              ('misc', None)]),\n",
       " OrderedDict([('id', 14),\n",
       "              ('form', 'тысяч'),\n",
       "              ('lemma', 'тысяча'),\n",
       "              ('upostag', 'NOUN'),\n",
       "              ('xpostag', None),\n",
       "              ('feats',\n",
       "               OrderedDict([('Animacy', 'Inan'),\n",
       "                            ('Case', 'Gen'),\n",
       "                            ('Gender', 'Fem'),\n",
       "                            ('Number', 'Plur')])),\n",
       "              ('head', 11),\n",
       "              ('deprel', 'nsubj'),\n",
       "              ('deps', [('nsubj', 11)]),\n",
       "              ('misc', OrderedDict([('SpaceAfter', 'No')]))]),\n",
       " OrderedDict([('id', 15),\n",
       "              ('form', '.'),\n",
       "              ('lemma', '.'),\n",
       "              ('upostag', 'PUNCT'),\n",
       "              ('xpostag', None),\n",
       "              ('feats', None),\n",
       "              ('head', 14),\n",
       "              ('deprel', 'punct'),\n",
       "              ('deps', [('punct', 14)]),\n",
       "              ('misc', None)])]"
      ]
     },
     "execution_count": 3,
     "metadata": {},
     "output_type": "execute_result"
    }
   ],
   "source": [
    "parse(data)[0]"
   ]
  },
  {
   "cell_type": "code",
   "execution_count": 33,
   "metadata": {
    "collapsed": true
   },
   "outputs": [],
   "source": [
    "children = []\n",
    "parents = []\n",
    "grandparents = []\n",
    "for i in range(len(parse(data)[0])):\n",
    "    children.append(i+1)\n",
    "    parents.append(parse(data)[0][i]['head'])\n",
    "    grandparents.append(parse(data)[0][parse(data)[0][i]['head'] -1]['head'])"
   ]
  },
  {
   "cell_type": "code",
   "execution_count": 34,
   "metadata": {},
   "outputs": [],
   "source": [
    "children_form  = [(parse(data)[0][i-1]['form']) for i in children]"
   ]
  },
  {
   "cell_type": "code",
   "execution_count": 42,
   "metadata": {},
   "outputs": [],
   "source": [
    "parents_form = [parse(data)[0][i-1]['form'] if i else None for i in parents]"
   ]
  },
  {
   "cell_type": "code",
   "execution_count": 43,
   "metadata": {},
   "outputs": [],
   "source": [
    "grandparents_form = [parse(data)[0][i-1]['form'] if i else None for i in grandparents]"
   ]
  },
  {
   "cell_type": "code",
   "execution_count": 44,
   "metadata": {
    "collapsed": true
   },
   "outputs": [],
   "source": [
    "result = list(zip(grandparents_form, parents_form, children_form))"
   ]
  },
  {
   "cell_type": "code",
   "execution_count": 45,
   "metadata": {},
   "outputs": [
    {
     "data": {
      "text/plain": [
       "[('составляло', 'период', 'В'),\n",
       " ('составляло', 'период', 'советский'),\n",
       " (None, 'составляло', 'период'),\n",
       " ('составляло', 'период', 'времени'),\n",
       " (None, 'составляло', 'число'),\n",
       " ('число', 'специалистов', 'ИТ'),\n",
       " ('специалистов', 'ИТ', '-'),\n",
       " ('составляло', 'число', 'специалистов'),\n",
       " ('число', 'Армении', 'в'),\n",
       " ('составляло', 'число', 'Армении'),\n",
       " ('тысяч', None, 'составляло'),\n",
       " ('составляло', 'тысяч', 'около'),\n",
       " ('составляло', 'тысяч', 'десяти'),\n",
       " (None, 'составляло', 'тысяч'),\n",
       " ('составляло', 'тысяч', '.')]"
      ]
     },
     "execution_count": 45,
     "metadata": {},
     "output_type": "execute_result"
    }
   ],
   "source": [
    "result"
   ]
  },
  {
   "cell_type": "code",
   "execution_count": null,
   "metadata": {},
   "outputs": [],
   "source": []
  },
  {
   "cell_type": "code",
   "execution_count": null,
   "metadata": {
    "collapsed": true
   },
   "outputs": [],
   "source": []
  }
 ],
 "metadata": {
  "kernelspec": {
   "display_name": "Python 3",
   "language": "python",
   "name": "python3"
  },
  "language_info": {
   "codemirror_mode": {
    "name": "ipython",
    "version": 3
   },
   "file_extension": ".py",
   "mimetype": "text/x-python",
   "name": "python",
   "nbconvert_exporter": "python",
   "pygments_lexer": "ipython3",
   "version": "3.6.3"
  }
 },
 "nbformat": 4,
 "nbformat_minor": 2
}
